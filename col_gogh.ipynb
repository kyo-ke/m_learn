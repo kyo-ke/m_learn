{
  "nbformat": 4,
  "nbformat_minor": 0,
  "metadata": {
    "colab": {
      "name": "col_gogh.ipynb",
      "version": "0.3.2",
      "provenance": [],
      "collapsed_sections": [],
      "include_colab_link": true
    },
    "kernelspec": {
      "name": "python3",
      "display_name": "Python 3"
    },
    "accelerator": "GPU"
  },
  "cells": [
    {
      "cell_type": "markdown",
      "metadata": {
        "id": "view-in-github",
        "colab_type": "text"
      },
      "source": [
        "<a href=\"https://colab.research.google.com/github/kyo-ke/m_learn/blob/master/col_gogh.ipynb\" target=\"_parent\"><img src=\"https://colab.research.google.com/assets/colab-badge.svg\" alt=\"Open In Colab\"/></a>"
      ]
    },
    {
      "cell_type": "code",
      "metadata": {
        "id": "zheSjM3lydOg",
        "colab_type": "code",
        "outputId": "a361bbe9-edd8-49c6-8fba-ae9299e05775",
        "colab": {
          "base_uri": "https://localhost:8080/",
          "height": 122
        }
      },
      "source": [
        "from google.colab import drive\n",
        "drive.mount('/content/drive')\n"
      ],
      "execution_count": 1,
      "outputs": [
        {
          "output_type": "stream",
          "text": [
            "Go to this URL in a browser: https://accounts.google.com/o/oauth2/auth?client_id=947318989803-6bn6qk8qdgf4n4g3pfee6491hc0brc4i.apps.googleusercontent.com&redirect_uri=urn%3Aietf%3Awg%3Aoauth%3A2.0%3Aoob&scope=email%20https%3A%2F%2Fwww.googleapis.com%2Fauth%2Fdocs.test%20https%3A%2F%2Fwww.googleapis.com%2Fauth%2Fdrive%20https%3A%2F%2Fwww.googleapis.com%2Fauth%2Fdrive.photos.readonly%20https%3A%2F%2Fwww.googleapis.com%2Fauth%2Fpeopleapi.readonly&response_type=code\n",
            "\n",
            "Enter your authorization code:\n",
            "··········\n",
            "Mounted at /content/drive\n"
          ],
          "name": "stdout"
        }
      ]
    },
    {
      "cell_type": "code",
      "metadata": {
        "id": "bOQD9vZPytDO",
        "colab_type": "code",
        "outputId": "7075b5ce-95c0-4f85-adc0-fe3134cda201",
        "colab": {
          "base_uri": "https://localhost:8080/",
          "height": 51
        }
      },
      "source": [
        "!pip install -U -q PyDrive"
      ],
      "execution_count": 2,
      "outputs": [
        {
          "output_type": "stream",
          "text": [
            "\u001b[?25l\r\u001b[K     |▎                               | 10kB 21.1MB/s eta 0:00:01\r\u001b[K     |▋                               | 20kB 23.8MB/s eta 0:00:01\r\u001b[K     |█                               | 30kB 27.6MB/s eta 0:00:01\r\u001b[K     |█▎                              | 40kB 31.4MB/s eta 0:00:01\r\u001b[K     |█▋                              | 51kB 33.9MB/s eta 0:00:01\r\u001b[K     |██                              | 61kB 36.5MB/s eta 0:00:01\r\u001b[K     |██▎                             | 71kB 36.9MB/s eta 0:00:01\r\u001b[K     |██▋                             | 81kB 37.5MB/s eta 0:00:01\r\u001b[K     |███                             | 92kB 39.5MB/s eta 0:00:01\r\u001b[K     |███▎                            | 102kB 36.6MB/s eta 0:00:01\r\u001b[K     |███▋                            | 112kB 36.6MB/s eta 0:00:01\r\u001b[K     |████                            | 122kB 36.6MB/s eta 0:00:01\r\u001b[K     |████▎                           | 133kB 36.6MB/s eta 0:00:01\r\u001b[K     |████▋                           | 143kB 36.6MB/s eta 0:00:01\r\u001b[K     |█████                           | 153kB 36.6MB/s eta 0:00:01\r\u001b[K     |█████▎                          | 163kB 36.6MB/s eta 0:00:01\r\u001b[K     |█████▋                          | 174kB 36.6MB/s eta 0:00:01\r\u001b[K     |██████                          | 184kB 36.6MB/s eta 0:00:01\r\u001b[K     |██████▎                         | 194kB 36.6MB/s eta 0:00:01\r\u001b[K     |██████▋                         | 204kB 36.6MB/s eta 0:00:01\r\u001b[K     |███████                         | 215kB 36.6MB/s eta 0:00:01\r\u001b[K     |███████▎                        | 225kB 36.6MB/s eta 0:00:01\r\u001b[K     |███████▋                        | 235kB 36.6MB/s eta 0:00:01\r\u001b[K     |████████                        | 245kB 36.6MB/s eta 0:00:01\r\u001b[K     |████████▎                       | 256kB 36.6MB/s eta 0:00:01\r\u001b[K     |████████▋                       | 266kB 36.6MB/s eta 0:00:01\r\u001b[K     |█████████                       | 276kB 36.6MB/s eta 0:00:01\r\u001b[K     |█████████▎                      | 286kB 36.6MB/s eta 0:00:01\r\u001b[K     |█████████▋                      | 296kB 36.6MB/s eta 0:00:01\r\u001b[K     |██████████                      | 307kB 36.6MB/s eta 0:00:01\r\u001b[K     |██████████▎                     | 317kB 36.6MB/s eta 0:00:01\r\u001b[K     |██████████▋                     | 327kB 36.6MB/s eta 0:00:01\r\u001b[K     |███████████                     | 337kB 36.6MB/s eta 0:00:01\r\u001b[K     |███████████▎                    | 348kB 36.6MB/s eta 0:00:01\r\u001b[K     |███████████▋                    | 358kB 36.6MB/s eta 0:00:01\r\u001b[K     |████████████                    | 368kB 36.6MB/s eta 0:00:01\r\u001b[K     |████████████▎                   | 378kB 36.6MB/s eta 0:00:01\r\u001b[K     |████████████▋                   | 389kB 36.6MB/s eta 0:00:01\r\u001b[K     |█████████████                   | 399kB 36.6MB/s eta 0:00:01\r\u001b[K     |█████████████▎                  | 409kB 36.6MB/s eta 0:00:01\r\u001b[K     |█████████████▋                  | 419kB 36.6MB/s eta 0:00:01\r\u001b[K     |██████████████                  | 430kB 36.6MB/s eta 0:00:01\r\u001b[K     |██████████████▎                 | 440kB 36.6MB/s eta 0:00:01\r\u001b[K     |██████████████▋                 | 450kB 36.6MB/s eta 0:00:01\r\u001b[K     |███████████████                 | 460kB 36.6MB/s eta 0:00:01\r\u001b[K     |███████████████▎                | 471kB 36.6MB/s eta 0:00:01\r\u001b[K     |███████████████▋                | 481kB 36.6MB/s eta 0:00:01\r\u001b[K     |████████████████                | 491kB 36.6MB/s eta 0:00:01\r\u001b[K     |████████████████▎               | 501kB 36.6MB/s eta 0:00:01\r\u001b[K     |████████████████▋               | 512kB 36.6MB/s eta 0:00:01\r\u001b[K     |█████████████████               | 522kB 36.6MB/s eta 0:00:01\r\u001b[K     |█████████████████▎              | 532kB 36.6MB/s eta 0:00:01\r\u001b[K     |█████████████████▋              | 542kB 36.6MB/s eta 0:00:01\r\u001b[K     |██████████████████              | 552kB 36.6MB/s eta 0:00:01\r\u001b[K     |██████████████████▎             | 563kB 36.6MB/s eta 0:00:01\r\u001b[K     |██████████████████▋             | 573kB 36.6MB/s eta 0:00:01\r\u001b[K     |███████████████████             | 583kB 36.6MB/s eta 0:00:01\r\u001b[K     |███████████████████▎            | 593kB 36.6MB/s eta 0:00:01\r\u001b[K     |███████████████████▋            | 604kB 36.6MB/s eta 0:00:01\r\u001b[K     |████████████████████            | 614kB 36.6MB/s eta 0:00:01\r\u001b[K     |████████████████████▎           | 624kB 36.6MB/s eta 0:00:01\r\u001b[K     |████████████████████▋           | 634kB 36.6MB/s eta 0:00:01\r\u001b[K     |█████████████████████           | 645kB 36.6MB/s eta 0:00:01\r\u001b[K     |█████████████████████▎          | 655kB 36.6MB/s eta 0:00:01\r\u001b[K     |█████████████████████▋          | 665kB 36.6MB/s eta 0:00:01\r\u001b[K     |██████████████████████          | 675kB 36.6MB/s eta 0:00:01\r\u001b[K     |██████████████████████▎         | 686kB 36.6MB/s eta 0:00:01\r\u001b[K     |██████████████████████▋         | 696kB 36.6MB/s eta 0:00:01\r\u001b[K     |███████████████████████         | 706kB 36.6MB/s eta 0:00:01\r\u001b[K     |███████████████████████▎        | 716kB 36.6MB/s eta 0:00:01\r\u001b[K     |███████████████████████▋        | 727kB 36.6MB/s eta 0:00:01\r\u001b[K     |████████████████████████        | 737kB 36.6MB/s eta 0:00:01\r\u001b[K     |████████████████████████▎       | 747kB 36.6MB/s eta 0:00:01\r\u001b[K     |████████████████████████▋       | 757kB 36.6MB/s eta 0:00:01\r\u001b[K     |████████████████████████▉       | 768kB 36.6MB/s eta 0:00:01\r\u001b[K     |█████████████████████████▏      | 778kB 36.6MB/s eta 0:00:01\r\u001b[K     |█████████████████████████▌      | 788kB 36.6MB/s eta 0:00:01\r\u001b[K     |█████████████████████████▉      | 798kB 36.6MB/s eta 0:00:01\r\u001b[K     |██████████████████████████▏     | 808kB 36.6MB/s eta 0:00:01\r\u001b[K     |██████████████████████████▌     | 819kB 36.6MB/s eta 0:00:01\r\u001b[K     |██████████████████████████▉     | 829kB 36.6MB/s eta 0:00:01\r\u001b[K     |███████████████████████████▏    | 839kB 36.6MB/s eta 0:00:01\r\u001b[K     |███████████████████████████▌    | 849kB 36.6MB/s eta 0:00:01\r\u001b[K     |███████████████████████████▉    | 860kB 36.6MB/s eta 0:00:01\r\u001b[K     |████████████████████████████▏   | 870kB 36.6MB/s eta 0:00:01\r\u001b[K     |████████████████████████████▌   | 880kB 36.6MB/s eta 0:00:01\r\u001b[K     |████████████████████████████▉   | 890kB 36.6MB/s eta 0:00:01\r\u001b[K     |█████████████████████████████▏  | 901kB 36.6MB/s eta 0:00:01\r\u001b[K     |█████████████████████████████▌  | 911kB 36.6MB/s eta 0:00:01\r\u001b[K     |█████████████████████████████▉  | 921kB 36.6MB/s eta 0:00:01\r\u001b[K     |██████████████████████████████▏ | 931kB 36.6MB/s eta 0:00:01\r\u001b[K     |██████████████████████████████▌ | 942kB 36.6MB/s eta 0:00:01\r\u001b[K     |██████████████████████████████▉ | 952kB 36.6MB/s eta 0:00:01\r\u001b[K     |███████████████████████████████▏| 962kB 36.6MB/s eta 0:00:01\r\u001b[K     |███████████████████████████████▌| 972kB 36.6MB/s eta 0:00:01\r\u001b[K     |███████████████████████████████▉| 983kB 36.6MB/s eta 0:00:01\r\u001b[K     |████████████████████████████████| 993kB 36.6MB/s \n",
            "\u001b[?25h  Building wheel for PyDrive (setup.py) ... \u001b[?25l\u001b[?25hdone\n"
          ],
          "name": "stdout"
        }
      ]
    },
    {
      "cell_type": "code",
      "metadata": {
        "id": "obppGBPmy4f1",
        "colab_type": "code",
        "colab": {}
      },
      "source": [
        "from pydrive.auth import GoogleAuth\n",
        "from pydrive.drive import GoogleDrive\n",
        "from google.colab import auth\n",
        "from oauth2client.client import GoogleCredentials\n",
        "\n",
        "def st_drive():\n",
        "    auth.authenticate_user()\n",
        "    gauth = GoogleAuth()\n",
        "    gauth.credentials = GoogleCredentials.get_application_default()\n",
        "    drive = GoogleDrive(gauth)\n",
        "    return drive\n",
        "\n",
        "\n",
        "def file_list(drive,dir_id):\n",
        "    file_list = drive.ListFile({'q': \"'%s' in parents and trashed=false\" % dir_id}).GetList()\n",
        "    for f in file_list:\n",
        "        print(\"name: \" + f[\"title\"] + \", id: \" + f[\"id\"])\n",
        "    return\n",
        "\n",
        "\n",
        "def use_file(drive,dir_id,file_name):\n",
        "    file_list = drive.ListFile({'q': \"'%s' in parents and trashed=false\" % dir_id}).GetList()\n",
        "    file_id = 'nothing'\n",
        "    for f in file_list:\n",
        "        if f['title'] == file_name:\n",
        "            file_id = f['id']\n",
        "    drive_file = drive.CreateFile({'id': file_id})\n",
        "    drive_file.GetContentFile(file_name)\n",
        "    return file_name\n"
      ],
      "execution_count": 0,
      "outputs": []
    },
    {
      "cell_type": "code",
      "metadata": {
        "id": "zOcYiV__y8Hd",
        "colab_type": "code",
        "colab": {}
      },
      "source": [
        "n_drive = st_drive()"
      ],
      "execution_count": 0,
      "outputs": []
    },
    {
      "cell_type": "code",
      "metadata": {
        "id": "TbwxcA7ay-12",
        "colab_type": "code",
        "colab": {}
      },
      "source": [
        "dir_id = '12JW1M933ErGRinXgFbD0wjiTdxu0pzhv'\n",
        "n_vgg = 'VGG_ILSVRC_16_layers.caffemodel'\n",
        "n_o_img = 't_skate.png'\n",
        "n_s_img = 'test_style.jpg'\n"
      ],
      "execution_count": 0,
      "outputs": []
    },
    {
      "cell_type": "code",
      "metadata": {
        "id": "kK5C6tUszLRy",
        "colab_type": "code",
        "outputId": "04ad326f-6193-4af2-8966-48c5e2950279",
        "colab": {
          "base_uri": "https://localhost:8080/",
          "height": 34
        }
      },
      "source": [
        "use_file(n_drive,dir_id,n_vgg)\n",
        "use_file(n_drive,dir_id,n_o_img)\n",
        "use_file(n_drive,dir_id,n_s_img)\n"
      ],
      "execution_count": 6,
      "outputs": [
        {
          "output_type": "execute_result",
          "data": {
            "text/plain": [
              "'test_style.jpg'"
            ]
          },
          "metadata": {
            "tags": []
          },
          "execution_count": 6
        }
      ]
    },
    {
      "cell_type": "code",
      "metadata": {
        "id": "Ct6aJH3IzNrg",
        "colab_type": "code",
        "colab": {}
      },
      "source": [
        "\n",
        "\n",
        "import chainer\n",
        "from chainer import cuda\n",
        "import chainer.functions as F\n",
        "import chainer.links as L\n",
        "from chainer.links import caffe\n",
        "from chainer import Variable, optimizers\n",
        "\n",
        "\n",
        "import os\n",
        "import sys\n",
        "\n",
        "import numpy as np\n",
        "from PIL import Image\n",
        "\n",
        "\n",
        "import pickle\n"
      ],
      "execution_count": 0,
      "outputs": []
    },
    {
      "cell_type": "code",
      "metadata": {
        "id": "7iHh2WAyzT6v",
        "colab_type": "code",
        "colab": {}
      },
      "source": [
        "\n",
        "class VGG:\n",
        "    def __init__(self, fn=\"VGG_ILSVRC_16_layers.caffemodel\", alpha=[0,0,1,1], beta=[1,1,1,1]):\n",
        "        print (\"load model... %s\"%fn)\n",
        "        self.model = caffe.CaffeFunction(fn)\n",
        "        self.alpha = alpha\n",
        "        self.beta = beta\n",
        "    def forward(self, x):\n",
        "        y1 = self.model['conv1_2'](F.relu(self.model['conv1_1'](x)))\n",
        "        x1 = F.average_pooling_2d(F.relu(y1), 2, stride=2)\n",
        "        y2 = self.model['conv2_2'](F.relu(self.model['conv2_1'](x1)))\n",
        "        x2 = F.average_pooling_2d(F.relu(y2), 2, stride=2)\n",
        "        y3 = self.model['conv3_3'](F.relu(self.model['conv3_2'](F.relu(self.model['conv3_1'](x2)))))\n",
        "        x3 = F.average_pooling_2d(F.relu(y3), 2, stride=2)\n",
        "        y4 = self.model['conv4_3'](F.relu(self.model['conv4_2'](F.relu(self.model['conv4_1'](x3)))))\n",
        "    #    x4 = F.average_pooling_2d(F.relu(y4), 2, stride=2)\n",
        "    #    y5 = model.conv5_3(F.relu(model.conv5_2(F.relu(model.conv5_1(x4)))))\n",
        "        return [y1,y2,y3,y4]\n",
        "\n",
        "\n",
        "def subtract_mean(x0):\n",
        "    x = x0.copy()\n",
        "    x[0,0,:,:] -= 120\n",
        "    x[0,1,:,:] -= 120\n",
        "    x[0,2,:,:] -= 120\n",
        "    return x\n",
        "def add_mean(x0):\n",
        "    x = x0.copy()\n",
        "    x[0,0,:,:] += 120\n",
        "    x[0,1,:,:] += 120\n",
        "    x[0,2,:,:] += 120\n",
        "    return x\n",
        "\n"
      ],
      "execution_count": 0,
      "outputs": []
    },
    {
      "cell_type": "code",
      "metadata": {
        "id": "509luJxuzYC7",
        "colab_type": "code",
        "colab": {}
      },
      "source": [
        "def image_resize(img_file, width):\n",
        "    gogh = Image.open(img_file)\n",
        "    orig_w, orig_h = gogh.size[0], gogh.size[1]\n",
        "    if orig_w>orig_h:\n",
        "        new_w = width\n",
        "        new_h = width*orig_h//orig_w\n",
        "        gogh = np.asarray(gogh.resize((new_w,new_h)))[:,:,:3].transpose(2, 0, 1)[::-1].astype(np.float32)\n",
        "        gogh = gogh.reshape((1,3,new_h,new_w))\n",
        "        print(\"image resized to: \", gogh.shape)\n",
        "        hoge= np.zeros((1,3,width,width), dtype=np.float32)\n",
        "        hoge[0,:,width-new_h:,:] = gogh[0,:,:,:]\n",
        "        gogh = subtract_mean(hoge)\n",
        "    else:\n",
        "        new_w = width*orig_w//orig_h\n",
        "        new_h = width\n",
        "        gogh = np.asarray(gogh.resize((new_w,new_h)))[:,:,:3].transpose(2, 0, 1)[::-1].astype(np.float32)\n",
        "        gogh = gogh.reshape((1,3,new_h,new_w))\n",
        "        print(\"image resized to: \", gogh.shape)\n",
        "        hoge= np.zeros((1,3,width,width), dtype=np.float32)\n",
        "        hoge[0,:,:,width-new_w:] = gogh[0,:,:,:]\n",
        "        gogh = subtract_mean(hoge)\n",
        "    return xp.asarray(gogh), new_w, new_h\n"
      ],
      "execution_count": 0,
      "outputs": []
    },
    {
      "cell_type": "code",
      "metadata": {
        "id": "VsHJwkqNzazL",
        "colab_type": "code",
        "colab": {}
      },
      "source": [
        "def save_image(img, width, new_w, new_h, it):\n",
        "    def to_img(x):\n",
        "        im = np.zeros((new_h,new_w,3))\n",
        "        im[:,:,0] = x[2,:,:]\n",
        "        im[:,:,1] = x[1,:,:]\n",
        "        im[:,:,2] = x[0,:,:]\n",
        "        def clip(a):\n",
        "            return 0 if a<0 else (255 if a>255 else a)\n",
        "        im = np.vectorize(clip)(im).astype(np.uint8)\n",
        "        Image.fromarray(im).save(args.out_dir+\"/im_%05d.png\"%it)\n",
        "\n",
        "    if args.gpu>=0:\n",
        "        img_cpu = add_mean(img.get())\n",
        "    else:\n",
        "        img_cpu = add_mean(img)\n",
        "    if width==new_w:\n",
        "        to_img(img_cpu[0,:,width-new_h:,:])\n",
        "    else:\n",
        "        to_img(img_cpu[0,:,:,width-new_w:])\n"
      ],
      "execution_count": 0,
      "outputs": []
    },
    {
      "cell_type": "code",
      "metadata": {
        "id": "vt2ZfL5jzdol",
        "colab_type": "code",
        "colab": {}
      },
      "source": [
        "def get_matrix(y):\n",
        "    ch = y.data.shape[1]\n",
        "    wd = y.data.shape[2]\n",
        "    gogh_y = F.reshape(y, (ch,wd**2))\n",
        "    gogh_matrix = F.matmul(gogh_y, gogh_y, transb=True)/np.float32(ch*wd**2)\n",
        "    return gogh_matrix\n"
      ],
      "execution_count": 0,
      "outputs": []
    },
    {
      "cell_type": "code",
      "metadata": {
        "id": "TgVDsXwQzhLn",
        "colab_type": "code",
        "colab": {}
      },
      "source": [
        "class Clip(chainer.Function):\n",
        "    def forward(self, x):\n",
        "        x = x[0]\n",
        "        ret = cuda.elementwise('T x','T ret','ret = x<-120?-120:(x>136?136:x);','clip')(x)\n",
        "        return ret\n"
      ],
      "execution_count": 0,
      "outputs": []
    },
    {
      "cell_type": "code",
      "metadata": {
        "id": "K-sKw-shzkIJ",
        "colab_type": "code",
        "colab": {}
      },
      "source": [
        "def generate_image(img_orig, img_style, width, nw, nh, max_iter, lr, img_gen=None):\n",
        "    mid_orig = nn.forward(Variable(img_orig))\n",
        "    style_mats = [get_matrix(y) for y in nn.forward(Variable(img_style))]\n",
        "\n",
        "    if img_gen is None:\n",
        "        if args.gpu >= 0:\n",
        "            img_gen = xp.random.uniform(-20,20,(1,3,width,width),dtype=np.float32)\n",
        "    img_gen = chainer.links.Parameter(img_gen)\n",
        "    optimizer = optimizers.Adam(alpha=lr)\n",
        "    optimizer.setup(img_gen)\n",
        "    for i in range(max_iter):\n",
        "        img_gen.zerograds()\n",
        "\n",
        "        x = img_gen.W\n",
        "        y = nn.forward(x)\n",
        "\n",
        "        L = Variable(xp.zeros((), dtype=np.float32))\n",
        "        for l in range(len(y)):\n",
        "            ch = y[l].data.shape[1]\n",
        "            wd = y[l].data.shape[2]\n",
        "            gogh_y = F.reshape(y[l], (ch,wd**2))\n",
        "            gogh_matrix = F.matmul(gogh_y, gogh_y, transb=True)/np.float32(ch*wd**2)\n",
        "\n",
        "            L1 = np.float32(args.lam) * np.float32(nn.alpha[l])*F.mean_squared_error(y[l], Variable(mid_orig[l].data))\n",
        "            L2 = np.float32(nn.beta[l])*F.mean_squared_error(gogh_matrix, Variable(style_mats[l].data))/np.float32(len(y))\n",
        "            L += L1+L2\n",
        "\n",
        "            if i%1000==0:\n",
        "                print(i,l,L1.data,L2.data)\n",
        "\n",
        "        L.backward()\n",
        "        img_gen.W.grad = x.grad\n",
        "        optimizer.update()\n",
        "\n",
        "        tmp_shape = x.data.shape\n",
        "        if args.gpu >= 0:\n",
        "            img_gen.W.data += Clip().forward(img_gen.W.data).reshape(tmp_shape) - img_gen.W.data\n",
        "        else:\n",
        "            def clip(x):\n",
        "                return -120 if x<-120 else (136 if x>136 else x)\n",
        "            img_gen.W.data += np.vectorize(clip)(img_gen.W.data).reshape(tmp_shape) - img_gen.W.data\n",
        "\n",
        "        if (i%1000==0 or i == (max_iter - 1)): \n",
        "            save_image(img_gen.W.data, W, nw, nh, i)\n"
      ],
      "execution_count": 0,
      "outputs": []
    },
    {
      "cell_type": "code",
      "metadata": {
        "id": "LqGGOi9Izn-n",
        "colab_type": "code",
        "colab": {}
      },
      "source": [
        "\n",
        "class args:\n",
        "    def __init__(self):\n",
        "        self.moedel = 'vgg'\n",
        "        self.orig_img = n_o_img\n",
        "        self.style_img = n_s_img\n",
        "        self.out_dir = '/content/drive/My Drive/data'\n",
        "        self.gpu = 0\n",
        "        self.iter = 10000\n",
        "        self.lr = 4.0\n",
        "        self.lam = 0.09\n",
        "        self.width = 435\n"
      ],
      "execution_count": 0,
      "outputs": []
    },
    {
      "cell_type": "code",
      "metadata": {
        "id": "5ZC8soj3z2ZU",
        "colab_type": "code",
        "colab": {}
      },
      "source": [
        "args = args()"
      ],
      "execution_count": 0,
      "outputs": []
    },
    {
      "cell_type": "code",
      "metadata": {
        "id": "SnI6s2V1z6o0",
        "colab_type": "code",
        "colab": {}
      },
      "source": [
        "\n",
        "if args.gpu >= 0:\n",
        "    cuda.check_cuda_available()\n",
        "    chainer.Function.type_check_enable = False\n",
        "    cuda.get_device(args.gpu).use()\n",
        "    xp = cuda.cupy\n"
      ],
      "execution_count": 0,
      "outputs": []
    },
    {
      "cell_type": "code",
      "metadata": {
        "id": "YmD92R9xz_9T",
        "colab_type": "code",
        "outputId": "e2dd1cff-bfeb-43ea-c73b-3e6e9a276b21",
        "colab": {
          "base_uri": "https://localhost:8080/",
          "height": 34
        }
      },
      "source": [
        "nn = VGG()"
      ],
      "execution_count": 17,
      "outputs": [
        {
          "output_type": "stream",
          "text": [
            "load model... VGG_ILSVRC_16_layers.caffemodel\n"
          ],
          "name": "stdout"
        }
      ]
    },
    {
      "cell_type": "code",
      "metadata": {
        "id": "6K9Z4Db20Dvb",
        "colab_type": "code",
        "colab": {}
      },
      "source": [
        "if args.gpu>=0:\n",
        "    nn.model.to_gpu()\n"
      ],
      "execution_count": 0,
      "outputs": []
    },
    {
      "cell_type": "code",
      "metadata": {
        "id": "3Z0SK7Lf0LcK",
        "colab_type": "code",
        "colab": {}
      },
      "source": [
        "W = args.width"
      ],
      "execution_count": 0,
      "outputs": []
    },
    {
      "cell_type": "code",
      "metadata": {
        "id": "NYahqGwV0RMP",
        "colab_type": "code",
        "outputId": "8eb32d57-b7c8-42ef-b860-4d33b780a3a7",
        "colab": {
          "base_uri": "https://localhost:8080/",
          "height": 34
        }
      },
      "source": [
        "img_content,nw,nh = image_resize(args.orig_img, W)"
      ],
      "execution_count": 20,
      "outputs": [
        {
          "output_type": "stream",
          "text": [
            "image resized to:  (1, 3, 290, 435)\n"
          ],
          "name": "stdout"
        }
      ]
    },
    {
      "cell_type": "code",
      "metadata": {
        "id": "l5K-GyBE0Tp2",
        "colab_type": "code",
        "outputId": "5954cc08-70cf-4ae6-d53f-a838261dd4af",
        "colab": {
          "base_uri": "https://localhost:8080/",
          "height": 34
        }
      },
      "source": [
        "img_style,_,_ = image_resize(args.style_img, W)"
      ],
      "execution_count": 21,
      "outputs": [
        {
          "output_type": "stream",
          "text": [
            "image resized to:  (1, 3, 435, 326)\n"
          ],
          "name": "stdout"
        }
      ]
    },
    {
      "cell_type": "code",
      "metadata": {
        "id": "tjH1DPnu0WC_",
        "colab_type": "code",
        "outputId": "836b8ea8-67ea-4e01-f9cf-1697dd5f5a58",
        "colab": {
          "base_uri": "https://localhost:8080/",
          "height": 153
        }
      },
      "source": [
        "generate_image(img_content, img_style, W, nw, nh, img_gen=None, max_iter=args.iter, lr=args.lr)"
      ],
      "execution_count": 0,
      "outputs": [
        {
          "output_type": "stream",
          "text": [
            "0 0 0.0 180192.56\n",
            "0 1 0.0 447550.4\n",
            "0 2 26179.91 109104.84\n",
            "0 3 1581.0887 428.37683\n",
            "1000 0 0.0 152.51236\n",
            "1000 1 0.0 470.78763\n",
            "1000 2 10786.259 2221.6406\n",
            "1000 3 385.16492 27.999\n"
          ],
          "name": "stdout"
        }
      ]
    },
    {
      "cell_type": "code",
      "metadata": {
        "id": "A8Wx7Vyo0Y5D",
        "colab_type": "code",
        "outputId": "d8a4e0c2-b75e-4cf2-83ed-333883d8cb88",
        "colab": {
          "base_uri": "https://localhost:8080/",
          "height": 51
        }
      },
      "source": [
        "!ls"
      ],
      "execution_count": 0,
      "outputs": [
        {
          "output_type": "stream",
          "text": [
            "adc.json  sample_data  t_skate.png\n",
            "drive\t  style_2.png  VGG_ILSVRC_16_layers.caffemodel\n"
          ],
          "name": "stdout"
        }
      ]
    },
    {
      "cell_type": "code",
      "metadata": {
        "id": "6w0bDeDi1JHO",
        "colab_type": "code",
        "outputId": "a9aa89c6-9407-4624-81b2-461b85a705a6",
        "colab": {
          "base_uri": "https://localhost:8080/",
          "height": 34
        }
      },
      "source": [
        "!ls drive"
      ],
      "execution_count": 0,
      "outputs": [
        {
          "output_type": "stream",
          "text": [
            "'My Drive'\n"
          ],
          "name": "stdout"
        }
      ]
    },
    {
      "cell_type": "code",
      "metadata": {
        "id": "3S1_SRpO1lDZ",
        "colab_type": "code",
        "colab": {}
      },
      "source": [
        "out_image_dir = '/content/drive/My Drive/out_images'\n",
        "out_model_dir = '/content/drive/My Drive/out_models'\n"
      ],
      "execution_count": 0,
      "outputs": []
    },
    {
      "cell_type": "code",
      "metadata": {
        "id": "Y5gDPU9JgB4Z",
        "colab_type": "code",
        "colab": {}
      },
      "source": [
        ""
      ],
      "execution_count": 0,
      "outputs": []
    }
  ]
}